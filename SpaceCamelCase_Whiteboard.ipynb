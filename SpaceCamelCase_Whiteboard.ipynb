{
 "cells": [
  {
   "cell_type": "markdown",
   "id": "c5712edd",
   "metadata": {},
   "source": [
    "Complete the solution so that the function will break up camel casing, using a space between words.\n",
    "\n",
    "\"camelCasing\"  =>  \"camel Casing\"\n",
    "\"identifier\"   =>  \"identifier\"\n",
    "\"\"             =>  \"\""
   ]
  },
  {
   "cell_type": "code",
   "execution_count": 1,
   "id": "4c05a066",
   "metadata": {},
   "outputs": [],
   "source": [
    "my_cool_string = 'ThisStringIsInCamelCase.'\n"
   ]
  },
  {
   "cell_type": "code",
   "execution_count": 2,
   "id": "b2dd17ac",
   "metadata": {},
   "outputs": [
    {
     "data": {
      "text/plain": [
       "' This String Is In Camel Case.'"
      ]
     },
     "execution_count": 2,
     "metadata": {},
     "output_type": "execute_result"
    }
   ],
   "source": [
    "def un_camel(cameled_string):\n",
    "    output = ''\n",
    "    for letter in cameled_string:\n",
    "        if letter.isupper():\n",
    "            output += ' '\n",
    "        output += letter\n",
    "    return output\n",
    "un_camel(my_cool_string)"
   ]
  },
  {
   "cell_type": "code",
   "execution_count": null,
   "id": "62e8d6a2",
   "metadata": {},
   "outputs": [],
   "source": []
  },
  {
   "cell_type": "code",
   "execution_count": null,
   "id": "cb1021ae",
   "metadata": {},
   "outputs": [],
   "source": []
  }
 ],
 "metadata": {
  "kernelspec": {
   "display_name": "Python 3 (ipykernel)",
   "language": "python",
   "name": "python3"
  },
  "language_info": {
   "codemirror_mode": {
    "name": "ipython",
    "version": 3
   },
   "file_extension": ".py",
   "mimetype": "text/x-python",
   "name": "python",
   "nbconvert_exporter": "python",
   "pygments_lexer": "ipython3",
   "version": "3.9.7"
  }
 },
 "nbformat": 4,
 "nbformat_minor": 5
}
